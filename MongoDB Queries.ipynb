{
 "cells": [
  {
   "cell_type": "code",
   "execution_count": 5,
   "metadata": {},
   "outputs": [],
   "source": [
    "from pymongo import MongoClient\n",
    "import json\n",
    "import urllib.parse\n",
    "\n",
    "with open('credentials_mongodb.json') as f:\n",
    "    login = json.load(f)\n",
    "\n",
    "username = login['username']\n",
    "password = urllib.parse.quote(login['password'])\n",
    "host = login['host']\n",
    "url = \"mongodb+srv://{}:{}@{}/?retryWrites=true&w=majority\".format(username, password, host)\n",
    "client = MongoClient(url)"
   ]
  },
  {
   "cell_type": "markdown",
   "metadata": {
    "tags": []
   },
   "source": [
    "### 1.1\n"
   ]
  },
  {
   "cell_type": "markdown",
   "metadata": {},
   "source": [
    "List the databases that exist on your MongoDB Atlas cluster after loading sample databases. "
   ]
  },
  {
   "cell_type": "code",
   "execution_count": 9,
   "metadata": {
    "tags": []
   },
   "outputs": [
    {
     "data": {
      "text/plain": [
       "['sample_airbnb',\n",
       " 'sample_analytics',\n",
       " 'sample_geospatial',\n",
       " 'sample_guides',\n",
       " 'sample_mflix',\n",
       " 'sample_restaurants',\n",
       " 'sample_supplies',\n",
       " 'sample_training',\n",
       " 'sample_weatherdata',\n",
       " 'admin',\n",
       " 'local']"
      ]
     },
     "execution_count": 9,
     "metadata": {},
     "output_type": "execute_result"
    }
   ],
   "source": [
    "client.list_database_names()"
   ]
  },
  {
   "cell_type": "markdown",
   "metadata": {
    "tags": []
   },
   "source": [
    "### 1.2\n"
   ]
  },
  {
   "cell_type": "markdown",
   "metadata": {},
   "source": [
    "List the collections stored in the `sample_mflix` and `sample_airbnb` databases. You can do this either by checking out the databases using Compass or by using `pymongo`'s `.list_collection_names()` method."
   ]
  },
  {
   "cell_type": "code",
   "execution_count": 12,
   "metadata": {
    "tags": []
   },
   "outputs": [
    {
     "data": {
      "text/plain": [
       "['users', 'theaters', 'comments', 'movies', 'sessions', 'embedded_movies']"
      ]
     },
     "execution_count": 12,
     "metadata": {},
     "output_type": "execute_result"
    }
   ],
   "source": [
    "client[\"sample_mflix\"].list_collection_names()"
   ]
  },
  {
   "cell_type": "code",
   "execution_count": 13,
   "metadata": {},
   "outputs": [
    {
     "data": {
      "text/plain": [
       "['listingsAndReviews']"
      ]
     },
     "execution_count": 13,
     "metadata": {},
     "output_type": "execute_result"
    }
   ],
   "source": [
    "client.sample_airbnb.list_collection_names()"
   ]
  },
  {
   "cell_type": "markdown",
   "metadata": {
    "tags": []
   },
   "source": [
    "### 2.1\n"
   ]
  },
  {
   "cell_type": "markdown",
   "metadata": {},
   "source": [
    "Retrieve one (random) document associated with a movie produced in 2015.\n"
   ]
  },
  {
   "cell_type": "code",
   "execution_count": 17,
   "metadata": {
    "tags": []
   },
   "outputs": [
    {
     "data": {
      "text/plain": [
       "{'_id': ObjectId('573a13adf29313caabd2b765'),\n",
       " 'plot': \"A new theme park is built on the original site of Jurassic Park. Everything is going well until the park's newest attraction--a genetically modified giant stealth killing machine--escapes containment and goes on a killing spree.\",\n",
       " 'genres': ['Action', 'Adventure', 'Sci-Fi'],\n",
       " 'runtime': 124,\n",
       " 'metacritic': 59,\n",
       " 'rated': 'PG-13',\n",
       " 'cast': ['Chris Pratt',\n",
       "  'Bryce Dallas Howard',\n",
       "  'Irrfan Khan',\n",
       "  \"Vincent D'Onofrio\"],\n",
       " 'num_mflix_comments': 0,\n",
       " 'poster': 'https://m.media-amazon.com/images/M/MV5BNzQ3OTY4NjAtNzM5OS00N2ZhLWJlOWUtYzYwZjNmOWRiMzcyXkEyXkFqcGdeQXVyMTMxODk2OTU@._V1_SY1000_SX677_AL_.jpg',\n",
       " 'title': 'Jurassic World',\n",
       " 'fullplot': '22 years after the original Jurassic Park failed, the new park (also known as Jurassic World) is open for business. After years of studying genetics the scientists on the park genetically engineer a new breed of dinosaur. When everything goes horribly wrong, will our heroes make it off the island?',\n",
       " 'languages': ['English'],\n",
       " 'released': datetime.datetime(2015, 6, 12, 0, 0),\n",
       " 'directors': ['Colin Trevorrow'],\n",
       " 'writers': ['Rick Jaffa (screenplay)',\n",
       "  'Amanda Silver (screenplay)',\n",
       "  'Colin Trevorrow (screenplay)',\n",
       "  'Derek Connolly (screenplay)',\n",
       "  'Rick Jaffa (story)',\n",
       "  'Amanda Silver (story)',\n",
       "  'Michael Crichton (characters)'],\n",
       " 'awards': {'wins': 0, 'nominations': 5, 'text': '5 nominations.'},\n",
       " 'lastupdated': '2015-09-11 00:21:41.630000000',\n",
       " 'year': 2015,\n",
       " 'imdb': {'rating': 7.3, 'votes': 252556, 'id': 369610},\n",
       " 'countries': ['USA', 'China'],\n",
       " 'type': 'movie'}"
      ]
     },
     "execution_count": 17,
     "metadata": {},
     "output_type": "execute_result"
    }
   ],
   "source": [
    "client['sample_mflix']['movies'].find_one(filter={'year':2015})"
   ]
  },
  {
   "cell_type": "markdown",
   "metadata": {
    "tags": []
   },
   "source": [
    "### 2.2\n"
   ]
  },
  {
   "cell_type": "markdown",
   "metadata": {},
   "source": [
    "Retrieve all TV series produced in 1995.\n"
   ]
  },
  {
   "cell_type": "code",
   "execution_count": 20,
   "metadata": {},
   "outputs": [
    {
     "data": {
      "text/plain": [
       "['movie', 'series']"
      ]
     },
     "execution_count": 20,
     "metadata": {},
     "output_type": "execute_result"
    }
   ],
   "source": [
    "client['sample_mflix']['movies'].distinct(\"type\")"
   ]
  },
  {
   "cell_type": "code",
   "execution_count": 21,
   "metadata": {
    "tags": []
   },
   "outputs": [
    {
     "data": {
      "text/plain": [
       "[{'_id': ObjectId('573a1399f29313caabceee5e'),\n",
       "  'plot': 'Captain Woodrow Call, now retired from the Rangers, is a bounty hunter. He is hired by an eastern rail baron to track down Joey Garza, a new kind of killer, only a boy, who kills from a ...',\n",
       "  'genres': ['Drama', 'Western'],\n",
       "  'runtime': 300,\n",
       "  'cast': ['James Garner', 'Sissy Spacek', 'Sam Shepard', 'Ned Beatty'],\n",
       "  'poster': 'https://m.media-amazon.com/images/M/MV5BMjA5MTc2NjU5NF5BMl5BanBnXkFtZTcwODUzNjUyMQ@@._V1_SY1000_SX677_AL_.jpg',\n",
       "  'title': 'Streets of Laredo',\n",
       "  'fullplot': \"Captain Woodrow Call, now retired from the Rangers, is a bounty hunter. He is hired by an eastern rail baron to track down Joey Garza, a new kind of killer, only a boy, who kills from a distance with a rifle. Joined by his old compadre Pea Eye, it is a long ride to south Texas and the Mexican side of the border, where the past, in the form of Maria Garza, Joey's mother, haunts Call.\",\n",
       "  'languages': ['English'],\n",
       "  'released': datetime.datetime(1995, 11, 12, 0, 0),\n",
       "  'awards': {'wins': 6,\n",
       "   'nominations': 2,\n",
       "   'text': 'Nominated for 2 Primetime Emmys. Another 4 wins & 2 nominations.'},\n",
       "  'lastupdated': '2015-08-28 01:03:59.767000000',\n",
       "  'year': 1995,\n",
       "  'imdb': {'rating': 7.4, 'votes': 1236, 'id': 112041},\n",
       "  'countries': ['USA'],\n",
       "  'type': 'series',\n",
       "  'tomatoes': {'viewer': {'rating': 3.6, 'numReviews': 188, 'meter': 54},\n",
       "   'dvd': datetime.datetime(2003, 9, 30, 0, 0),\n",
       "   'production': 'Cabin Fever Entertainment',\n",
       "   'lastUpdated': datetime.datetime(2015, 8, 13, 19, 20, 55)},\n",
       "  'num_mflix_comments': 0},\n",
       " {'_id': ObjectId('573a1399f29313caabceeea0'),\n",
       "  'plot': 'Most of the passengers on an airplane disappear, and the remainder land the plane in a mysteriously barren airport.',\n",
       "  'genres': ['Horror', 'Mystery', 'Sci-Fi'],\n",
       "  'runtime': 180,\n",
       "  'cast': ['Patricia Wettig',\n",
       "   'Dean Stockwell',\n",
       "   'David Morse',\n",
       "   'Mark Lindsay Chapman'],\n",
       "  'poster': 'https://m.media-amazon.com/images/M/MV5BNWNmNmVhZDYtM2Y1Yi00ZmNjLThlNTEtN2JiNjY4NGVhOTcyXkEyXkFqcGdeQXVyMTQxNzMzNDI@._V1_SY1000_SX677_AL_.jpg',\n",
       "  'title': 'The Langoliers',\n",
       "  'fullplot': \"On a red eye flight to Boston from LA 10 people wake up to a shock. All the passengers and crew have vanished. When they try to contact the ground they make no connections. They land the plane only to discover that things haven't changed. But its like the world is dead. No one is there, the air is still, sound doesn't echo, the food is tasteless. And a distant sound is heard coming closer. A race of monstrous beings bent on their destruction is heading for them, eating everything in sight.\",\n",
       "  'languages': ['English'],\n",
       "  'released': datetime.datetime(1995, 5, 14, 0, 0),\n",
       "  'rated': 'PG-13',\n",
       "  'awards': {'wins': 0,\n",
       "   'nominations': 3,\n",
       "   'text': 'Nominated for 1 Primetime Emmy. Another 2 nominations.'},\n",
       "  'lastupdated': '2015-08-13 00:14:17.350000000',\n",
       "  'year': 1995,\n",
       "  'imdb': {'rating': 6.1, 'votes': 19667, 'id': 112040},\n",
       "  'countries': ['USA'],\n",
       "  'type': 'series',\n",
       "  'tomatoes': {'viewer': {'rating': 2.9, 'numReviews': 22337, 'meter': 45},\n",
       "   'dvd': datetime.datetime(2001, 8, 21, 0, 0),\n",
       "   'critic': {'rating': 5.0, 'numReviews': 10, 'meter': 50},\n",
       "   'lastUpdated': datetime.datetime(2015, 8, 21, 18, 36, 4),\n",
       "   'rotten': 5,\n",
       "   'production': 'Republic Pictures Home Video',\n",
       "   'fresh': 5},\n",
       "  'num_mflix_comments': 0},\n",
       " {'_id': ObjectId('573a1399f29313caabceeead'),\n",
       "  'plot': \"Jane Austen's classic novel about the prejudice that occurred between the 19th century classes and the pride which would keep lovers apart.\",\n",
       "  'genres': ['Drama', 'Romance'],\n",
       "  'runtime': 327,\n",
       "  'cast': ['Jennifer Ehle', 'Colin Firth', 'Susannah Harker', 'Julia Sawalha'],\n",
       "  'poster': 'https://m.media-amazon.com/images/M/MV5BMDM0MjFlOGYtNTg2ZC00MmRkLTg5OTQtM2U5ZjUyYTgxZThiXkEyXkFqcGdeQXVyNTAyODkwOQ@@._V1_SY1000_SX677_AL_.jpg',\n",
       "  'title': 'Pride and Prejudice',\n",
       "  'fullplot': \"Jane Austen's classic novel about the prejudice that occurred between the 19th century classes and the pride which would keep lovers apart.\",\n",
       "  'languages': ['English'],\n",
       "  'released': datetime.datetime(1996, 1, 14, 0, 0),\n",
       "  'awards': {'wins': 9,\n",
       "   'nominations': 13,\n",
       "   'text': 'Won 1 Primetime Emmy. Another 8 wins & 13 nominations.'},\n",
       "  'lastupdated': '2015-09-10 17:50:52.183000000',\n",
       "  'year': 1995,\n",
       "  'imdb': {'rating': 9.1, 'votes': 45725, 'id': 112130},\n",
       "  'countries': ['UK'],\n",
       "  'type': 'series',\n",
       "  'tomatoes': {'viewer': {'rating': 0.0, 'numReviews': 2},\n",
       "   'dvd': datetime.datetime(2010, 5, 25, 0, 0),\n",
       "   'lastUpdated': datetime.datetime(2015, 8, 17, 18, 3, 1)},\n",
       "  'num_mflix_comments': 0}]"
      ]
     },
     "execution_count": 21,
     "metadata": {},
     "output_type": "execute_result"
    }
   ],
   "source": [
    "list(\n",
    "    client['sample_mflix']['movies'].find(filter={'type':'series', 'year':1995})\n",
    ")"
   ]
  },
  {
   "cell_type": "markdown",
   "metadata": {
    "tags": []
   },
   "source": [
    "### 2.3\n"
   ]
  },
  {
   "cell_type": "markdown",
   "metadata": {},
   "source": [
    "Retrieve the title and cast of movies produced in 2010, but limit your results to 5 documents.\n",
    "\n",
    "> **Note:** Don't forget to exclude the `_id` field from your returned documents.\n"
   ]
  },
  {
   "cell_type": "code",
   "execution_count": 24,
   "metadata": {
    "tags": []
   },
   "outputs": [
    {
     "data": {
      "text/plain": [
       "[{'cast': ['èva Gèbor', 'Istvèn Znamenèk', 'èkos Horvèth', 'Lia Pokorny'],\n",
       "  'title': 'Pèl Adrienn'},\n",
       " {'title': 'In My Sleep',\n",
       "  'cast': ['Philip Winchester',\n",
       "   'Tim Draxl',\n",
       "   'Lacey Chabert',\n",
       "   'Abigail Spencer']},\n",
       " {'cast': ['Mandy Moore', 'Zachary Levi', 'Donna Murphy', 'Ron Perlman'],\n",
       "  'title': 'Tangled'},\n",
       " {'cast': ['Nikita Mikhalkov',\n",
       "   'Oleg Menshikov',\n",
       "   'Nadezhda Mikhalkova',\n",
       "   'Sergey Makovetskiy'],\n",
       "  'title': 'Utomlyonnye solntsem 2: Predstoyanie'},\n",
       " {'title': 'Dinner for Schmucks',\n",
       "  'cast': ['Steve Carell',\n",
       "   'Paul Rudd',\n",
       "   'Zach Galifianakis',\n",
       "   'Jemaine Clement']}]"
      ]
     },
     "execution_count": 24,
     "metadata": {},
     "output_type": "execute_result"
    }
   ],
   "source": [
    "list(\n",
    "    client['sample_mflix']['movies'].find(filter={'year':2010, 'type':'movie'}, projection={'title':1, 'cast':1, '_id':0}).limit(5)\n",
    ")"
   ]
  },
  {
   "cell_type": "markdown",
   "metadata": {
    "tags": []
   },
   "source": [
    "### 2.4\n"
   ]
  },
  {
   "cell_type": "markdown",
   "metadata": {},
   "source": [
    "Retrieve the top 15 movies produced in 2010 that have the longest duration. Exclude TV series from your results. The returned documents should only contain the `title` and `runtime` fields (exclude the `_id` field).\n",
    "\n",
    "> **Note:** It's ok if your results contain duplicate movies."
   ]
  },
  {
   "cell_type": "code",
   "execution_count": 27,
   "metadata": {
    "tags": []
   },
   "outputs": [
    {
     "data": {
      "text/plain": [
       "[{'runtime': 272, 'title': 'Mysteries of Lisbon'},\n",
       " {'runtime': 181, 'title': 'Utomlyonnye solntsem 2: Predstoyanie'},\n",
       " {'runtime': 181, 'title': 'Aurora'},\n",
       " {'runtime': 180, 'title': 'Thorne: Sleepyhead'},\n",
       " {'runtime': 180, 'title': 'The Autobiography of Nicolae Ceausescu'},\n",
       " {'runtime': 178, 'title': 'Riverworld'},\n",
       " {'runtime': 174, 'title': 'Enthiran'},\n",
       " {'runtime': 170, 'title': 'Khaleja'},\n",
       " {'runtime': 170, 'title': 'We Believed'},\n",
       " {'title': 'My Name Is Khan', 'runtime': 165},\n",
       " {'runtime': 163, 'title': 'Moss'},\n",
       " {'runtime': 163, 'title': 'Raajneeti'},\n",
       " {'runtime': 160, 'title': 'Singam'},\n",
       " {'runtime': 159, 'title': 'Black Venus'},\n",
       " {'runtime': 157, 'title': 'Will You Cross the Skies for Me?'}]"
      ]
     },
     "execution_count": 27,
     "metadata": {},
     "output_type": "execute_result"
    }
   ],
   "source": [
    "list(\n",
    "    client['sample_mflix']['movies'].find(filter={'year':2010, 'type':'movie'}, projection={'title':1, 'runtime':1, '_id':0}).sort('runtime',-1).limit(15)\n",
    ")"
   ]
  },
  {
   "cell_type": "markdown",
   "metadata": {
    "tags": []
   },
   "source": [
    "### 2.5\n"
   ]
  },
  {
   "cell_type": "markdown",
   "metadata": {},
   "source": [
    "For year 2015, return the number of movies with a metacritic rating of exactly 90."
   ]
  },
  {
   "cell_type": "code",
   "execution_count": 30,
   "metadata": {
    "tags": []
   },
   "outputs": [
    {
     "data": {
      "text/plain": [
       "3"
      ]
     },
     "execution_count": 30,
     "metadata": {},
     "output_type": "execute_result"
    }
   ],
   "source": [
    "client['sample_mflix']['movies'].count_documents(filter={'metacritic':90, 'year':2015})"
   ]
  },
  {
   "cell_type": "markdown",
   "metadata": {
    "tags": []
   },
   "source": [
    "### 2.6\n"
   ]
  },
  {
   "cell_type": "markdown",
   "metadata": {},
   "source": [
    "Retrieve the title and runtime of the 10 shortest movies in the `movies` collection.\n"
   ]
  },
  {
   "cell_type": "code",
   "execution_count": 33,
   "metadata": {
    "tags": []
   },
   "outputs": [
    {
     "data": {
      "text/plain": [
       "[{'runtime': 1, 'title': 'Neko no shukai'},\n",
       " {'runtime': 1, 'title': 'The Kiss'},\n",
       " {'runtime': 1, 'title': 'The Kiss'},\n",
       " {'runtime': 2, 'title': 'Fresh Guacamole'},\n",
       " {'runtime': 2, 'title': 'Pixels'},\n",
       " {'runtime': 2, 'title': 'Game Over'},\n",
       " {'runtime': 2, 'title': 'Andrè and Wally B.'},\n",
       " {'runtime': 2, 'title': 'Luxo Jr.'},\n",
       " {'runtime': 3, 'title': 'Sisyphus'},\n",
       " {'runtime': 3, 'title': 'Gagarin'}]"
      ]
     },
     "execution_count": 33,
     "metadata": {},
     "output_type": "execute_result"
    }
   ],
   "source": [
    "list(\n",
    "    client['sample_mflix']['movies'].find(\n",
    "        filter={'runtime':{'$exists':True}},\n",
    "        projection={'title':1, 'runtime':1, '_id':0}).sort('runtime',1).limit(10)\n",
    ")\n"
   ]
  },
  {
   "cell_type": "markdown",
   "metadata": {
    "tags": []
   },
   "source": [
    "## Exercise 3: Conditionals, embedded documents & arrays\n",
    "---"
   ]
  },
  {
   "cell_type": "markdown",
   "metadata": {
    "tags": []
   },
   "source": [
    "### 3.1\n"
   ]
  },
  {
   "cell_type": "markdown",
   "metadata": {},
   "source": [
    "Retrieve the title, production year, and number of awards of all movies that\n",
    "\n",
    "- have been produced between 1950 and 2000 (inclusive)\n",
    "- have an IMDB rating of 8.5 or better\n",
    "- won at least 30 awards.\n",
    "\n",
    "Sort the results by production year in descending order."
   ]
  },
  {
   "cell_type": "code",
   "execution_count": 37,
   "metadata": {
    "tags": []
   },
   "outputs": [
    {
     "data": {
      "text/plain": [
       "[{'year': 2000, 'title': 'Memento', 'awards': {'wins': 54}},\n",
       " {'year': 2000, 'title': 'Gladiator', 'awards': {'wins': 63}},\n",
       " {'year': 1999, 'title': 'The Matrix', 'awards': {'wins': 37}},\n",
       " {'year': 1998, 'title': 'Saving Private Ryan', 'awards': {'wins': 83}},\n",
       " {'title': 'Life Is Beautiful', 'awards': {'wins': 66}, 'year': 1997},\n",
       " {'year': 1997, 'title': 'Life Is Beautiful', 'awards': {'wins': 66}},\n",
       " {'year': 1995, 'title': 'The Usual Suspects', 'awards': {'wins': 36}},\n",
       " {'year': 1995, 'title': 'Se7en', 'awards': {'wins': 32}},\n",
       " {'year': 1994, 'title': 'Pulp Fiction', 'awards': {'wins': 64}},\n",
       " {'year': 1994, 'title': 'Forrest Gump', 'awards': {'wins': 46}},\n",
       " {'title': \"Schindler's List\", 'awards': {'wins': 81}, 'year': 1993},\n",
       " {'year': 1991, 'title': 'The Silence of the Lambs', 'awards': {'wins': 56}},\n",
       " {'year': 1990, 'title': 'Goodfellas', 'awards': {'wins': 43}},\n",
       " {'year': 1981, 'title': 'Raiders of the Lost Ark', 'awards': {'wins': 32}},\n",
       " {'year': 1977,\n",
       "  'title': 'Star Wars: Episode IV - A New Hope',\n",
       "  'awards': {'wins': 44}},\n",
       " {'year': 1975,\n",
       "  'title': \"One Flew Over the Cuckoo's Nest\",\n",
       "  'awards': {'wins': 36}},\n",
       " {'year': 1972, 'title': 'The Godfather', 'awards': {'wins': 33}}]"
      ]
     },
     "execution_count": 37,
     "metadata": {},
     "output_type": "execute_result"
    }
   ],
   "source": [
    "list(\n",
    "    client['sample_mflix']['movies'].find(\n",
    "        filter={'year':{'$gte':1950, '$lte':2000}, 'imdb.rating':{'$gte':8.5}, 'awards.wins':{'$gte':30}},\n",
    "        projection={'title':1, 'year':1, 'awards.wins':1, '_id':0}\n",
    "    ).sort('year',-1)\n",
    ")"
   ]
  },
  {
   "cell_type": "markdown",
   "metadata": {
    "tags": []
   },
   "source": [
    "### 3.2\n"
   ]
  },
  {
   "cell_type": "markdown",
   "metadata": {},
   "source": [
    "Find the top 15 highest-rated movies according to IMDB for movies that have at least 100,000 votes. Your returned documents should only contain the `title`, `year`, and `imdb.rating` fields.\n"
   ]
  },
  {
   "cell_type": "code",
   "execution_count": 40,
   "metadata": {
    "tags": []
   },
   "outputs": [
    {
     "data": {
      "text/plain": [
       "[{'imdb': {'rating': 9.3}, 'year': 1994, 'title': 'The Shawshank Redemption'},\n",
       " {'imdb': {'rating': 9.3}, 'year': 1994, 'title': 'The Shawshank Redemption'},\n",
       " {'imdb': {'rating': 9.2}, 'year': 1972, 'title': 'The Godfather'},\n",
       " {'imdb': {'rating': 9.1}, 'year': 1974, 'title': 'The Godfather: Part II'},\n",
       " {'imdb': {'rating': 9.0}, 'year': 2008, 'title': 'The Dark Knight'},\n",
       " {'imdb': {'rating': 8.9},\n",
       "  'year': 2003,\n",
       "  'title': 'The Lord of the Rings: The Return of the King'},\n",
       " {'imdb': {'rating': 8.9}, 'year': 1999, 'title': 'Fight Club'},\n",
       " {'imdb': {'rating': 8.9}, 'year': 1994, 'title': 'Pulp Fiction'},\n",
       " {'title': \"Schindler's List\", 'year': 1993, 'imdb': {'rating': 8.9}},\n",
       " {'imdb': {'rating': 8.8},\n",
       "  'year': 1980,\n",
       "  'title': 'Star Wars: Episode V - The Empire Strikes Back'},\n",
       " {'imdb': {'rating': 8.8},\n",
       "  'year': 2001,\n",
       "  'title': 'The Lord of the Rings: The Fellowship of the Ring'},\n",
       " {'imdb': {'rating': 8.8}, 'year': 2010, 'title': 'Inception'},\n",
       " {'imdb': {'rating': 8.8}, 'year': 1994, 'title': 'Forrest Gump'},\n",
       " {'imdb': {'rating': 8.7}, 'year': 1990, 'title': 'Goodfellas'},\n",
       " {'imdb': {'rating': 8.7},\n",
       "  'year': 1977,\n",
       "  'title': 'Star Wars: Episode IV - A New Hope'}]"
      ]
     },
     "execution_count": 40,
     "metadata": {},
     "output_type": "execute_result"
    }
   ],
   "source": [
    "list(\n",
    "    client['sample_mflix']['movies'].find(\n",
    "        filter={'imdb.votes':{'$gte':100000, '$exists':True}, 'type':'movie'},\n",
    "        projection={'title':1, 'year':1, 'imdb.rating':1, '_id':0}).sort('imdb.rating', -1).limit(15)\n",
    ")"
   ]
  },
  {
   "cell_type": "markdown",
   "metadata": {
    "tags": []
   },
   "source": [
    "### 3.3\n"
   ]
  },
  {
   "cell_type": "markdown",
   "metadata": {},
   "source": [
    "Retrieve the title, production year, and IMDB rating of movies in which both **Morgan Freeman** and **Clint Eastwood** played a role (among other actors in those movies). Sort the returned documents by year in descending order."
   ]
  },
  {
   "cell_type": "code",
   "execution_count": 43,
   "metadata": {
    "tags": []
   },
   "outputs": [
    {
     "data": {
      "text/plain": [
       "[{'imdb': {'rating': 8.1}, 'year': 2004, 'title': 'Million Dollar Baby'},\n",
       " {'imdb': {'rating': 8.3}, 'year': 1992, 'title': 'Unforgiven'}]"
      ]
     },
     "execution_count": 43,
     "metadata": {},
     "output_type": "execute_result"
    }
   ],
   "source": [
    "list(\n",
    "    client['sample_mflix']['movies'].find(\n",
    "        filter={'$and':[{'cast':'Morgan Freeman'}, {'cast':'Clint Eastwood'}]},\n",
    "        projection={'title':1, 'year':1, 'imdb.rating':1, '_id':0}).sort('year', -1)\n",
    ")"
   ]
  },
  {
   "cell_type": "markdown",
   "metadata": {
    "tags": []
   },
   "source": [
    "### 3.4\n"
   ]
  },
  {
   "cell_type": "markdown",
   "metadata": {},
   "source": [
    "Retrieve documents associated with movies which:\n",
    "\n",
    "- are available in both German and French (among other languages), but not in English,\n",
    "- are either rated above 8 according to IMDB, or above 7.5 according to the critic ratings of [Rotten Tomatoes](https://www.rottentomatoes.com/) (inspect the `tomatoes` field),\n",
    "- have at least 50 Rotten Tomatoes critic reviews.\n",
    "\n",
    "The returned documents should include the title, year, IMDB rating, Rotten Tomatoes critic rating and country of production fields. Sort the results by IMDB rating in descending order.\n",
    "\n",
    "**Note:** Duplicates in the results are ok."
   ]
  },
  {
   "cell_type": "code",
   "execution_count": 46,
   "metadata": {
    "tags": []
   },
   "outputs": [
    {
     "data": {
      "text/plain": [
       "[{'imdb': {'rating': 7.8},\n",
       "  'year': 2013,\n",
       "  'title': 'The Wind Rises',\n",
       "  'tomatoes': {'critic': {'rating': 7.9}},\n",
       "  'countries': ['Japan']},\n",
       " {'title': 'The Wind Rises',\n",
       "  'year': 2013,\n",
       "  'imdb': {'rating': 7.8},\n",
       "  'countries': ['Japan'],\n",
       "  'tomatoes': {'critic': {'rating': 7.9}}}]"
      ]
     },
     "execution_count": 46,
     "metadata": {},
     "output_type": "execute_result"
    }
   ],
   "source": [
    "list(\n",
    "    client['sample_mflix']['movies'].find(\n",
    "        filter={'tomatoes.critic.numReviews':{'$gte':50}, \n",
    "                '$or':[{'imdb.rating':{'$gt':8}}, {'tomatoes.critic.rating':{'$gt':7.5}}],\n",
    "                'languages':{'$all':['German', 'French'], '$nin':['English']}},\n",
    "        projection={'title':1, 'year':1, 'imdb.rating':1, 'tomatoes.critic.rating':1, 'countries':1, '_id':0}\n",
    "    ).sort('imdb.rating', -1)\n",
    ")"
   ]
  },
  {
   "cell_type": "markdown",
   "metadata": {
    "tags": []
   },
   "source": [
    "### 3.5\n"
   ]
  },
  {
   "cell_type": "markdown",
   "metadata": {},
   "source": [
    "Find the title and production year of the top 20 award-winning movies which have **not** been produced in USA, Canada, UK, or Australia.\n",
    "\n",
    "**Note:** Duplicates are ok. Return 20 documents in any case."
   ]
  },
  {
   "cell_type": "code",
   "execution_count": 49,
   "metadata": {
    "tags": []
   },
   "outputs": [
    {
     "data": {
      "text/plain": [
       "[{'title': 'The Artist', 'year': 2011},\n",
       " {'title': 'Amour', 'year': 2012},\n",
       " {'title': 'Amour', 'year': 2012},\n",
       " {'title': 'A Separation', 'year': 2011},\n",
       " {'year': 2006, 'title': 'The Lives of Others'},\n",
       " {'title': 'Let the Right One In', 'year': 2008},\n",
       " {'year': 2002, 'title': 'City of God'},\n",
       " {'year': 2006, 'title': 'Volver'},\n",
       " {'title': 'Life Is Beautiful', 'year': 1997},\n",
       " {'title': 'The Sea Inside', 'year': 2004},\n",
       " {'year': 1997, 'title': 'Life Is Beautiful'},\n",
       " {'year': 2009, 'title': 'The White Ribbon'},\n",
       " {'year': 2001, 'title': 'Amèlie'},\n",
       " {'year': 2000, 'title': 'Amores Perros'},\n",
       " {'title': 'Shall We Dance?', 'year': 1996},\n",
       " {'title': 'Shall We Dance?', 'year': 1996},\n",
       " {'year': 2013, 'title': 'The Grandmaster'},\n",
       " {'year': 1999, 'title': 'All About My Mother'},\n",
       " {'year': 2009, 'title': 'The Secret in Their Eyes'},\n",
       " {'year': 2001, 'title': 'Spirited Away'}]"
      ]
     },
     "execution_count": 49,
     "metadata": {},
     "output_type": "execute_result"
    }
   ],
   "source": [
    "list(\n",
    "    client['sample_mflix']['movies'].find(\n",
    "        filter={'countries':{'$nin':['USA', 'Canada', 'UK', 'Australia']},\n",
    "                'awards.wins':{'$exists':True},\n",
    "                'type':'movie'},\n",
    "        projection={'title':1, 'year':1, '_id':0}\n",
    "    ).sort('awards.wins', -1).limit(20)\n",
    ")"
   ]
  },
  {
   "cell_type": "markdown",
   "metadata": {
    "deletable": false,
    "editable": false
   },
   "source": [
    "<img src=\"thanks.png\" width=\"500\">\n"
   ]
  },
  {
   "cell_type": "markdown",
   "metadata": {},
   "source": [
    " "
   ]
  }
 ],
 "metadata": {
  "kernelspec": {
   "display_name": "Python [conda env:bait580_2024]",
   "language": "python",
   "name": "conda-env-bait580_2024-py"
  },
  "language_info": {
   "codemirror_mode": {
    "name": "ipython",
    "version": 3
   },
   "file_extension": ".py",
   "mimetype": "text/x-python",
   "name": "python",
   "nbconvert_exporter": "python",
   "pygments_lexer": "ipython3",
   "version": "3.11.0"
  },
  "otter": {
   "OK_FORMAT": true,
   "tests": {}
  },
  "toc": {
   "base_numbering": 1,
   "nav_menu": {},
   "number_sections": false,
   "sideBar": true,
   "skip_h1_title": true,
   "title_cell": "Lecture Outline",
   "title_sidebar": "Contents",
   "toc_cell": true,
   "toc_position": {},
   "toc_section_display": true,
   "toc_window_display": true
  },
  "toc-autonumbering": false,
  "toc-showcode": false,
  "toc-showmarkdowntxt": false,
  "toc-showtags": false,
  "vscode": {
   "interpreter": {
    "hash": "ca7260ae022c71fb383831b2a1198c53a34e1b3f9d08b9677b0a2c2210849264"
   }
  }
 },
 "nbformat": 4,
 "nbformat_minor": 4
}
